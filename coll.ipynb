{
 "cells": [
  {
   "cell_type": "code",
   "execution_count": 2,
   "metadata": {},
   "outputs": [
    {
     "name": "stdout",
     "output_type": "stream",
     "text": [
      "Welcome to Green Field\n"
     ]
    }
   ],
   "source": [
    "import abc\n",
    "\n",
    "class BluePrint(abc.ABC):\n",
    "    @abc.abstractmethod\n",
    "    def hello(self):\n",
    "        pass\n",
    "\n",
    "class GreenField(BluePrint):\n",
    "    def hello(self):\n",
    "        print('Welcome to Green Field')\n",
    "\n",
    "gf = GreenField()\n",
    "gf.hello()"
   ]
  },
  {
   "cell_type": "code",
   "execution_count": 5,
   "metadata": {},
   "outputs": [
    {
     "name": "stdout",
     "output_type": "stream",
     "text": [
      "Welcome to Green Field\n"
     ]
    }
   ],
   "source": [
    "import abc\n",
    "\n",
    "class BluePrint(abc.ABC):\n",
    "    @abc.abstractmethod\n",
    "    def hello(self):\n",
    "        pass\n",
    "\n",
    "class GreenField(BluePrint):\n",
    "    def hello(self):\n",
    "        print('Welcome to Green Field')\n",
    "\n",
    "gf = GreenField()\n",
    "gf.hello()"
   ]
  },
  {
   "cell_type": "code",
   "execution_count": 8,
   "metadata": {},
   "outputs": [],
   "source": [
    "class TankError(Exception):\n",
    "    pass\n",
    "class Tank:\n",
    "    def __init__(self, capacity):\n",
    "        self.capacity = capacity\n",
    "        self.__level = 0\n",
    "\n",
    "    @property\n",
    "    def level(self):\n",
    "        return self.__level\n",
    "\n",
    "    @level.setter\n",
    "    def level(self, amount):\n",
    "        if amount > 0:\n",
    "        # fueling\n",
    "            if amount <= self.capacity:\n",
    "                self.__level = amount\n",
    "            else:\n",
    "                raise TankError('Too much liquid in the tank')\n",
    "        elif amount < 0:\n",
    "            raise TankError('Not possible to set negative liquid level')\n",
    "\n",
    "    @level.deleter\n",
    "    def level(self):\n",
    "        if self.__level > 0:\n",
    "            print('It is good to remember to sanitize the remains from the tank!')\n",
    "            self.__level = None"
   ]
  },
  {
   "cell_type": "code",
   "execution_count": 12,
   "metadata": {},
   "outputs": [
    {
     "name": "stdout",
     "output_type": "stream",
     "text": [
      "Current liquid level 10\n"
     ]
    }
   ],
   "source": [
    "our_tank = Tank(20)\n",
    "our_tank.level = 10\n",
    "print('Current liquid level', our_tank.level)"
   ]
  },
  {
   "cell_type": "code",
   "execution_count": 24,
   "metadata": {},
   "outputs": [
    {
     "ename": "TankError",
     "evalue": "Too much liquid in the tank",
     "output_type": "error",
     "traceback": [
      "\u001b[0;31m---------------------------------------------------------------------------\u001b[0m",
      "\u001b[0;31mTankError\u001b[0m                                 Traceback (most recent call last)",
      "Cell \u001b[0;32mIn[24], line 1\u001b[0m\n\u001b[0;32m----> 1\u001b[0m our_tank\u001b[39m.\u001b[39;49mlevel \u001b[39m+\u001b[39m\u001b[39m=\u001b[39m \u001b[39m3\u001b[39m\n\u001b[1;32m      2\u001b[0m \u001b[39mprint\u001b[39m(\u001b[39m'\u001b[39m\u001b[39mCurrent liquid level\u001b[39m\u001b[39m'\u001b[39m, our_tank\u001b[39m.\u001b[39mlevel)\n",
      "Cell \u001b[0;32mIn[8], line 19\u001b[0m, in \u001b[0;36mTank.level\u001b[0;34m(self, amount)\u001b[0m\n\u001b[1;32m     17\u001b[0m         \u001b[39mself\u001b[39m\u001b[39m.\u001b[39m__level \u001b[39m=\u001b[39m amount\n\u001b[1;32m     18\u001b[0m     \u001b[39melse\u001b[39;00m:\n\u001b[0;32m---> 19\u001b[0m         \u001b[39mraise\u001b[39;00m TankError(\u001b[39m'\u001b[39m\u001b[39mToo much liquid in the tank\u001b[39m\u001b[39m'\u001b[39m)\n\u001b[1;32m     20\u001b[0m \u001b[39melif\u001b[39;00m amount \u001b[39m<\u001b[39m \u001b[39m0\u001b[39m:\n\u001b[1;32m     21\u001b[0m     \u001b[39mraise\u001b[39;00m TankError(\u001b[39m'\u001b[39m\u001b[39mNot possible to set negative liquid level\u001b[39m\u001b[39m'\u001b[39m)\n",
      "\u001b[0;31mTankError\u001b[0m: Too much liquid in the tank"
     ]
    }
   ],
   "source": [
    "our_tank.level += 3\n",
    "print('Current liquid level', our_tank.level)"
   ]
  },
  {
   "cell_type": "code",
   "execution_count": 29,
   "metadata": {},
   "outputs": [
    {
     "name": "stdout",
     "output_type": "stream",
     "text": [
      "Current liquid level 20\n"
     ]
    }
   ],
   "source": [
    "print('Current liquid level', our_tank.capacity)"
   ]
  },
  {
   "cell_type": "code",
   "execution_count": 14,
   "metadata": {},
   "outputs": [
    {
     "name": "stdout",
     "output_type": "stream",
     "text": [
      "Trying to set liquid level to 21 units, results Too much liquid in the tank\n"
     ]
    }
   ],
   "source": [
    "try:\n",
    "    our_tank.level = 21\n",
    "except TankError as e:\n",
    "    print('Trying to set liquid level to 21 units, results', e)"
   ]
  },
  {
   "cell_type": "code",
   "execution_count": 18,
   "metadata": {},
   "outputs": [
    {
     "name": "stdout",
     "output_type": "stream",
     "text": [
      "Trying to add an additional 15 units, result: Too much liquid in the tank\n"
     ]
    }
   ],
   "source": [
    "# similar example - let's try to add an additional 15 units\n",
    "# this should be rejected as the total capacity is 20 units\n",
    "try:\n",
    "    our_tank.level += 15\n",
    "except TankError as e:\n",
    "    print('Trying to add an additional 15 units, result:', e)\n"
   ]
  },
  {
   "cell_type": "code",
   "execution_count": 26,
   "metadata": {},
   "outputs": [
    {
     "ename": "AttributeError",
     "evalue": "'Tank' object has no attribute 'amount'",
     "output_type": "error",
     "traceback": [
      "\u001b[0;31m---------------------------------------------------------------------------\u001b[0m",
      "\u001b[0;31mAttributeError\u001b[0m                            Traceback (most recent call last)",
      "Cell \u001b[0;32mIn[26], line 2\u001b[0m\n\u001b[1;32m      1\u001b[0m \u001b[39m#our_tank.level += 3\u001b[39;00m\n\u001b[0;32m----> 2\u001b[0m \u001b[39mprint\u001b[39m(\u001b[39m'\u001b[39m\u001b[39mCurrent liquid level\u001b[39m\u001b[39m'\u001b[39m, our_tank\u001b[39m.\u001b[39;49mamount)\n",
      "\u001b[0;31mAttributeError\u001b[0m: 'Tank' object has no attribute 'amount'"
     ]
    }
   ],
   "source": [
    "#our_tank.level += 3\n",
    "print('Current liquid level', our_tank.amount)"
   ]
  },
  {
   "cell_type": "code",
   "execution_count": 6,
   "metadata": {},
   "outputs": [
    {
     "name": "stdout",
     "output_type": "stream",
     "text": [
      "None\n",
      "XYZ School\n",
      "None\n"
     ]
    }
   ],
   "source": [
    "class Student:\n",
    "    school_name = 'ABC School'\n",
    "\n",
    "    def __init__(self, name, age):\n",
    "        self.name = name\n",
    "        self.age = age\n",
    "\n",
    "    @classmethod\n",
    "    def change_school(cls, school_name):\n",
    "        cls.school_name = school_name\n",
    "\n",
    "jessa = Student('Jessa', 20)\n",
    "print(Student.change_school('XYZ School'))\n",
    "print(Student.school_name)\n",
    "\n",
    "# delete class method\n",
    "#del Student.change_school\n",
    "\n",
    "# call class method\n",
    "# it will give error\n",
    "print(Student.change_school('PQR School'))\n"
   ]
  },
  {
   "cell_type": "code",
   "execution_count": 4,
   "metadata": {},
   "outputs": [
    {
     "name": "stdout",
     "output_type": "stream",
     "text": [
      "3\n",
      "3\n"
     ]
    }
   ],
   "source": [
    "import re\n",
    "class JamTanganMewah:\n",
    "    jumlah_jam = 0\n",
    "    def __init__(self, teks):\n",
    "        self.teks = teks\n",
    "        JamTanganMewah.jumlah_jam+=1\n",
    "\n",
    "    def get_jumlah_jam(self):\n",
    "        return self.jumlah_jam\n",
    "\n",
    "    @classmethod\n",
    "    def jam_dengan_ukiran(cls):\n",
    "        pass\n",
    "\n",
    "    @staticmethod\n",
    "    def validasi_teks(self):\n",
    "        regex = r\"^(?=.*[a-zA-Z])(?=.*\\d)[a-zA-Z\\d]{1,40}$\"\n",
    "        try:\n",
    "            re.match(regex, self.teks)\n",
    "        except KeyError as e:\n",
    "            return e\n",
    "             \n",
    "\n",
    "\n",
    "b = JamTanganMewah('Test')\n",
    "c = JamTanganMewah('Test1')\n",
    "d = JamTanganMewah('Test12')\n",
    "\n",
    "print(b.get_jumlah_jam())\n",
    "print(c.get_jumlah_jam())"
   ]
  },
  {
   "cell_type": "code",
   "execution_count": 1,
   "metadata": {},
   "outputs": [
    {
     "name": "stdout",
     "output_type": "stream",
     "text": [
      "String 'Contoh123' cocok: True\n",
      "String 'contoh' cocok: False\n",
      "String '12345' cocok: False\n",
      "String 'contoh#$%^' cocok: False\n"
     ]
    }
   ],
   "source": [
    "import re\n",
    "\n",
    "# Regex untuk mencocokkan karakter alfanumerik dan minimal satu angka dan satu huruf\n",
    "regex = r\"^(?=.*[a-zA-Z])(?=.*\\d)[a-zA-Z\\d]+$\"\n",
    "\n",
    "# Contoh string yang akan diperiksa\n",
    "string1 = \"Contoh123\"\n",
    "string2 = \"contoh\"\n",
    "string3 = \"12345\"\n",
    "string4 = \"contoh#$%^\"\n",
    "\n",
    "# Mencocokkan regex dengan string\n",
    "match1 = re.match(regex, string1)\n",
    "match2 = re.match(regex, string2)\n",
    "match3 = re.match(regex, string3)\n",
    "match4 = re.match(regex, string4)\n",
    "\n",
    "# Menampilkan hasil\n",
    "print(f\"String '{string1}' cocok: {match1 is not None}\")\n",
    "print(f\"String '{string2}' cocok: {match2 is not None}\")\n",
    "print(f\"String '{string3}' cocok: {match3 is not None}\")\n",
    "print(f\"String '{string4}' cocok: {match4 is not None}\")\n"
   ]
  }
 ],
 "metadata": {
  "kernelspec": {
   "display_name": "Python 3.10.8 ('odoo-venv': venv)",
   "language": "python",
   "name": "python3"
  },
  "language_info": {
   "codemirror_mode": {
    "name": "ipython",
    "version": 3
   },
   "file_extension": ".py",
   "mimetype": "text/x-python",
   "name": "python",
   "nbconvert_exporter": "python",
   "pygments_lexer": "ipython3",
   "version": "3.10.8"
  },
  "orig_nbformat": 4,
  "vscode": {
   "interpreter": {
    "hash": "cc79f7c9274457bbfa4687564bc54fb1aacdb566805df7cfd466e753f25d8b77"
   }
  }
 },
 "nbformat": 4,
 "nbformat_minor": 2
}
